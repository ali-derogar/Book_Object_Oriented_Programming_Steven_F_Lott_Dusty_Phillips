{
 "cells": [
  {
   "cell_type": "markdown",
   "metadata": {},
   "source": [
    "# Objects in Python\n",
    "\n",
    "#### in this chapter, we will understand the following:\n",
    "\n",
    "- Python's type hints\n",
    "- Creating classes and instantiating objects in Python\n",
    "- Organizing classes into packages and modules\n",
    "- How to suggest that people don't clobber an object's data, invalidating the\n",
    "internal state\n",
    "- Working with third-party packages available from the Python Package Index,\n",
    "PyPI\n"
   ]
  },
  {
   "cell_type": "markdown",
   "metadata": {},
   "source": [
    "### Introducing type hints\n",
    "everything in Python is an object.\n",
    "\n",
    "When we write literal values like \"Hello, world!\" or 42, we're actually creating\n",
    "instances of built-in classes."
   ]
  },
  {
   "cell_type": "code",
   "execution_count": 3,
   "metadata": {},
   "outputs": [
    {
     "name": "stdout",
     "output_type": "stream",
     "text": [
      "<class 'str'> <class 'int'>\n"
     ]
    }
   ],
   "source": [
    "print(\n",
    "    type(\"Hello, world!\"),\n",
    "    type(42)\n",
    ")"
   ]
  },
  {
   "cell_type": "markdown",
   "metadata": {},
   "source": [
    "Here are the first two core rules of how Python objects work:\n",
    "- Everything in Python is an object\n",
    "- Every object is defined by being an instance of at least one class"
   ]
  },
  {
   "cell_type": "code",
   "execution_count": 6,
   "metadata": {},
   "outputs": [
    {
     "name": "stdout",
     "output_type": "stream",
     "text": [
      "<class 'str'>\n",
      "<class 'int'>\n"
     ]
    }
   ],
   "source": [
    "a_string_variable = \"Hello, world!\"\n",
    "print(type(a_string_variable))\n",
    "a_string_variable = 42\n",
    "print(type(a_string_variable))"
   ]
  },
  {
   "cell_type": "markdown",
   "metadata": {},
   "source": [
    "Here are the two steps, shown side by side, showing how the variable is moved from\n",
    "object to object:"
   ]
  },
  {
   "cell_type": "markdown",
   "metadata": {},
   "source": [
    "![alt text](./images/10.PNG \"Figure 2.1: Variable names and objects\")"
   ]
  },
  {
   "cell_type": "markdown",
   "metadata": {},
   "source": [
    "When we check the\n",
    "type of a variable with type(), we see the type of the object the variable currently\n",
    "references.\n",
    "The variable doesn't have a type of its own; it's nothing more than a\n",
    "name. Similarly, asking for the id() of a variable shows the ID of the object the\n",
    "variable refers to. So obviously, the name a_string_variable is a bit misleading if\n",
    "we assign the name to an integer object."
   ]
  },
  {
   "cell_type": "code",
   "execution_count": 2,
   "metadata": {},
   "outputs": [
    {
     "data": {
      "text/plain": [
       "False"
      ]
     },
     "execution_count": 2,
     "metadata": {},
     "output_type": "execute_result"
    }
   ],
   "source": [
    "def odd(n):\n",
    "    return n % 2 != 0\n",
    "\n",
    "odd(3)\n",
    "\n",
    "odd(4)"
   ]
  },
  {
   "cell_type": "code",
   "execution_count": 5,
   "metadata": {},
   "outputs": [],
   "source": [
    "odd(\"Hello, world!\")"
   ]
  },
  {
   "cell_type": "markdown",
   "metadata": {},
   "source": [
    "In our example, the % operator provided by the str class doesn't work the same way  \n",
    "as the % operator provided by the int class, raising an exception. For strings, the % \n",
    "operator isn't used very often, but it does interpolation: \"a=%d\" % 113 computes a  \n",
    "string 'a=113';\n",
    " if there's no format specification like %d on the left side, the exception  \n",
    "is a TypeError. For integers, it's the remainder in division: 355 % 113 returns an  \n",
    "integer, 16. \n",
    "look at the annotations. In a few contexts, we can follow a variable name  \n",
    "with a colon, :, and a type name. We can do this in the parameters to functions (and  \n",
    "methods). We can also do this in assignment statements. Further, we can also add  \n",
    "-> syntax to a function (or a class method) definition to explain the expected return  \n",
    "type"
   ]
  },
  {
   "cell_type": "code",
   "execution_count": 6,
   "metadata": {},
   "outputs": [],
   "source": [
    "def odd(n: int) -> bool: \n",
    "    return n % 2 != 0"
   ]
  },
  {
   "cell_type": "markdown",
   "metadata": {},
   "source": [
    "We've added two type hints to our odd() little function definition. We've specified\n",
    "that argument values for the n parameter should be integers. We've also specified\n",
    "that the result will be one of the two values of the Boolean type."
   ]
  },
  {
   "cell_type": "markdown",
   "metadata": {},
   "source": [
    "- python -m pip install mypy"
   ]
  },
  {
   "cell_type": "code",
   "execution_count": null,
   "metadata": {},
   "outputs": [],
   "source": [
    "def odd(n: int) -> bool:\n",
    "    return n % 2 != 0\n",
    "\n",
    "def main():\n",
    "    print(odd(\"Hello, world!\"))\n",
    "    \n",
    "if __name__ == \"__main__\":\n",
    "    main()"
   ]
  },
  {
   "cell_type": "markdown",
   "metadata": {},
   "source": [
    "- % mypy –strict src/bad_hints.py"
   ]
  },
  {
   "cell_type": "markdown",
   "metadata": {},
   "source": [
    "```\n",
    "src/bad_hints.py:12: error: Function is missing a return type annotation src/bad_hints.py:12: note: Use \"-> None\" if function does not return a value src/bad_hints.py:13: error: Argument 1 to \"odd\" has incompatible type \"str\"; expected \"int\"\n",
    "```"
   ]
  },
  {
   "cell_type": "markdown",
   "metadata": {},
   "source": [
    "- The main() function doesn't have a return type; mypy suggests including\n",
    "-> None to make the absence of a return value perfectly explicit.\n",
    "-  More important is line 13: the code will try to evaluate the odd() function\n",
    "using a str value. This doesn't match the type hint for odd() and indicates\n",
    "another possible error."
   ]
  },
  {
   "cell_type": "markdown",
   "metadata": {},
   "source": [
    "###"
   ]
  },
  {
   "cell_type": "markdown",
   "metadata": {},
   "source": [
    "### Creating Python classes\n",
    "Similarly, the simplest class in Python 3 looks like this:"
   ]
  },
  {
   "cell_type": "code",
   "execution_count": 8,
   "metadata": {},
   "outputs": [],
   "source": [
    "class MyFirstClass:\n",
    "    pass"
   ]
  },
  {
   "cell_type": "markdown",
   "metadata": {},
   "source": [
    "*  * PEP 8\n",
    "- The class name must follow standard Python variable naming\n",
    "rules (it must start with a letter or underscore, and can\n",
    "only be comprised of letters, underscores, or numbers). In\n",
    "addition, the Python style guide (search the web for PEP 8)\n",
    "recommends that classes should be named using what PEP 8\n",
    "calls CapWords notation (start with a capital letter; any subsequent\n",
    "words should also start with a capital)\n"
   ]
  },
  {
   "cell_type": "code",
   "execution_count": 9,
   "metadata": {},
   "outputs": [
    {
     "name": "stdout",
     "output_type": "stream",
     "text": [
      "<__main__.MyFirstClass object at 0x0000024862B33ED0>\n",
      "<__main__.MyFirstClass object at 0x0000024862B30990>\n"
     ]
    }
   ],
   "source": [
    "a = MyFirstClass()\n",
    "b = MyFirstClass()\n",
    "print(a)\n",
    "print(b)"
   ]
  },
  {
   "cell_type": "markdown",
   "metadata": {},
   "source": [
    "calling a class\n",
    "will create a new object"
   ]
  },
  {
   "cell_type": "code",
   "execution_count": 10,
   "metadata": {},
   "outputs": [
    {
     "data": {
      "text/plain": [
       "False"
      ]
     },
     "execution_count": 10,
     "metadata": {},
     "output_type": "execute_result"
    }
   ],
   "source": [
    "a is b"
   ]
  },
  {
   "cell_type": "markdown",
   "metadata": {},
   "source": [
    "This can help reduce confusion when we've created a bunch of objects and assigned\n",
    "different variable names to the objects."
   ]
  },
  {
   "cell_type": "markdown",
   "metadata": {},
   "source": [
    "### Adding attributes\n",
    "Now, we have a basic class, but it's fairly useless. It doesn't contain any data, and it\n",
    "doesn't do anything. What do we have to do to assign an attribute to a given object?\n",
    "We can set arbitrary attributes on an instantiated object using dot\n",
    "notation. Here's an example:"
   ]
  },
  {
   "cell_type": "code",
   "execution_count": 11,
   "metadata": {},
   "outputs": [
    {
     "name": "stdout",
     "output_type": "stream",
     "text": [
      "5 4\n",
      "3 6\n"
     ]
    }
   ],
   "source": [
    "class Point:\n",
    "    pass\n",
    "p1 = Point()\n",
    "p2 = Point()\n",
    "p1.x = 5\n",
    "p1.y = 4\n",
    "p2.x = 3\n",
    "p2.y = 6\n",
    "print(p1.x, p1.y)\n",
    "print(p2.x, p2.y)"
   ]
  },
  {
   "cell_type": "markdown",
   "metadata": {},
   "source": [
    "to assign a value to an attribute\n",
    "on an object is use the <object>.<attribute> = <value> syntax. This is sometimes\n",
    "referred to as dot notation. The value can be anything: a Python primitive, a built-in\n",
    "data type, or another object. It can even be a function or another class!"
   ]
  },
  {
   "cell_type": "markdown",
   "metadata": {},
   "source": [
    "use this: p1.x: float = 5. In general, there's a much, much\n",
    "better approach to type hints"
   ]
  },
  {
   "cell_type": "markdown",
   "metadata": {},
   "source": [
    "### Making it do something\n",
    "Let's model a couple of actions on our Point class. We can start with\n",
    "a method called reset, which moves the point to the origin (the origin is the place\n",
    "where x and y are both zero)."
   ]
  },
  {
   "cell_type": "code",
   "execution_count": 12,
   "metadata": {},
   "outputs": [
    {
     "name": "stdout",
     "output_type": "stream",
     "text": [
      "12 8\n",
      "0 0\n"
     ]
    }
   ],
   "source": [
    "class Point:\n",
    "    \n",
    "    def reset(self):\n",
    "        self.x = 0\n",
    "        self.y = 0\n",
    "        \n",
    "p = Point()\n",
    "p.x = 12\n",
    "p.y = 8\n",
    "print(p.x, p.y)\n",
    "p.reset()\n",
    "print(p.x, p.y)"
   ]
  },
  {
   "cell_type": "markdown",
   "metadata": {},
   "source": [
    "### Talking to yourself\n",
    "The one difference, syntactically, between methods of classes and functions outside\n",
    "classes is that methods have one required argument. This argument is conventionally\n",
    "named ``` self ```;\n",
    "The self argument to a method is a reference to the object that the method is being\n",
    "invoked on. The object is an instance of a class, and this is sometimes called the\n",
    "instance variable."
   ]
  },
  {
   "cell_type": "code",
   "execution_count": 13,
   "metadata": {},
   "outputs": [
    {
     "name": "stdout",
     "output_type": "stream",
     "text": [
      "0 0\n"
     ]
    }
   ],
   "source": [
    "p = Point()\n",
    "Point.reset(p)\n",
    "print(p.x, p.y)"
   ]
  },
  {
   "cell_type": "markdown",
   "metadata": {},
   "source": [
    "* * hint\n",
    "* We can access attributes and methods of that object via this variable. This is\n",
    "exactly what we do inside the reset method when we set the x and y attributes of\n",
    "the self object.\n",
    "Notice that when we call the p.reset() method, we do not explicitly pass\n",
    "the self argument into it. Python automatically takes care of this part for us. It\n",
    "knows we're calling a method on the p object, so it automatically passes that object, p,\n",
    "to the method of the class, Point."
   ]
  },
  {
   "cell_type": "markdown",
   "metadata": {},
   "source": [
    "<hr>"
   ]
  },
  {
   "cell_type": "markdown",
   "metadata": {},
   "source": [
    "when we forget to include the self argument in our class definition\n",
    "Python will bail with an error message, as follows:"
   ]
  },
  {
   "cell_type": "code",
   "execution_count": 14,
   "metadata": {},
   "outputs": [
    {
     "ename": "TypeError",
     "evalue": "Point.reset() takes 0 positional arguments but 1 was given",
     "output_type": "error",
     "traceback": [
      "\u001b[1;31m---------------------------------------------------------------------------\u001b[0m",
      "\u001b[1;31mTypeError\u001b[0m                                 Traceback (most recent call last)",
      "Cell \u001b[1;32mIn[14], line 5\u001b[0m\n\u001b[0;32m      3\u001b[0m         \u001b[38;5;28;01mpass\u001b[39;00m\n\u001b[0;32m      4\u001b[0m p \u001b[38;5;241m=\u001b[39m Point()\n\u001b[1;32m----> 5\u001b[0m \u001b[43mp\u001b[49m\u001b[38;5;241;43m.\u001b[39;49m\u001b[43mreset\u001b[49m\u001b[43m(\u001b[49m\u001b[43m)\u001b[49m\n",
      "\u001b[1;31mTypeError\u001b[0m: Point.reset() takes 0 positional arguments but 1 was given"
     ]
    }
   ],
   "source": [
    "class Point:\n",
    "    def reset():\n",
    "        pass\n",
    "p = Point()\n",
    "p.reset()"
   ]
  },
  {
   "cell_type": "markdown",
   "metadata": {},
   "source": [
    "### More arguments"
   ]
  },
  {
   "cell_type": "code",
   "execution_count": 18,
   "metadata": {},
   "outputs": [
    {
     "data": {
      "text/plain": [
       "9.219544457292887"
      ]
     },
     "execution_count": 18,
     "metadata": {},
     "output_type": "execute_result"
    }
   ],
   "source": [
    "import math\n",
    "\n",
    "class Point:\n",
    "    \n",
    "    def move(self, x: float, y: float) -> None:\n",
    "        self.x = x\n",
    "        self.y = y\n",
    "        \n",
    "    def reset(self) -> None:\n",
    "        self.move(0, 0)\n",
    "        \n",
    "    def calculate_distance(self, other: \"Point\") -> float:\n",
    "        return math.hypot(self.x - other.x, self.y - other.y)\n",
    "    \n",
    "p1 = Point()\n",
    "p1.move(3,2)\n",
    "p2 = Point()\n",
    "p2.move(10,8)\n",
    "p2.calculate_distance(other=p1)"
   ]
  },
  {
   "cell_type": "markdown",
   "metadata": {},
   "source": [
    "The calculate_distance() method computes the Euclidean distance between two\n",
    "points. √(𝑥_𝑠 − 𝑥_𝑜)2 + (𝑦_𝑠 − 𝑦_𝑜)2 "
   ]
  },
  {
   "cell_type": "markdown",
   "metadata": {},
   "source": [
    "### Initializing the object"
   ]
  },
  {
   "cell_type": "markdown",
   "metadata": {},
   "source": [
    "The following interactive session shows what happens if we try to access a missing\n",
    "attribute."
   ]
  },
  {
   "cell_type": "code",
   "execution_count": 19,
   "metadata": {},
   "outputs": [
    {
     "name": "stdout",
     "output_type": "stream",
     "text": [
      "5\n"
     ]
    },
    {
     "ename": "AttributeError",
     "evalue": "'Point' object has no attribute 'y'",
     "output_type": "error",
     "traceback": [
      "\u001b[1;31m---------------------------------------------------------------------------\u001b[0m",
      "\u001b[1;31mAttributeError\u001b[0m                            Traceback (most recent call last)",
      "Cell \u001b[1;32mIn[19], line 5\u001b[0m\n\u001b[0;32m      2\u001b[0m point\u001b[38;5;241m.\u001b[39mx \u001b[38;5;241m=\u001b[39m \u001b[38;5;241m5\u001b[39m\n\u001b[0;32m      3\u001b[0m \u001b[38;5;28mprint\u001b[39m(point\u001b[38;5;241m.\u001b[39mx)\n\u001b[1;32m----> 5\u001b[0m \u001b[38;5;28mprint\u001b[39m(\u001b[43mpoint\u001b[49m\u001b[38;5;241;43m.\u001b[39;49m\u001b[43my\u001b[49m)\n",
      "\u001b[1;31mAttributeError\u001b[0m: 'Point' object has no attribute 'y'"
     ]
    }
   ],
   "source": [
    "point = Point()\n",
    "point.x = 5\n",
    "print(point.x)\n",
    "\n",
    "print(point.y)"
   ]
  },
  {
   "cell_type": "markdown",
   "metadata": {},
   "source": [
    "Most object-oriented programming languages have the concept of a constructor,\n",
    "a special method that creates and initializes the object when it is created. Python\n",
    "is a little different; it has a constructor and an initializer. The constructor method,\n",
    "```__new__()``` , is rarely used unless you're doing something very exotic. So, we'll start\n",
    "our discussion with the much more common initialization method, ```__init__()```."
   ]
  },
  {
   "cell_type": "markdown",
   "metadata": {},
   "source": [
    "The Python initialization method is the same as any other method, except it has a\n",
    "special name, ```__init__()```. The leading and trailing double underscores mean this is a\n",
    "special method that the Python interpreter will treat as a special case."
   ]
  },
  {
   "cell_type": "code",
   "execution_count": null,
   "metadata": {},
   "outputs": [],
   "source": [
    "class Point:\n",
    "    \n",
    "    def __init__(self, x: float, y: float) -> None:\n",
    "        self.move(x, y)\n",
    "        \n",
    "    def move(self, x: float, y: float) -> None:\n",
    "        self.x = x\n",
    "        self.y = y\n",
    "        \n",
    "    def reset(self) -> None:\n",
    "        self.move(0, 0)\n",
    "        \n",
    "    def calculate_distance(self, other: \"Point\") -> float:\n",
    "        return math.hypot(self.x - other.x, self.y - other.y)"
   ]
  },
  {
   "cell_type": "markdown",
   "metadata": {},
   "source": [
    "Constructing a Point instance now looks like this :"
   ]
  },
  {
   "cell_type": "code",
   "execution_count": null,
   "metadata": {},
   "outputs": [],
   "source": [
    "point = Point(3, 5)\n",
    "print(point.x, point.y)"
   ]
  },
  {
   "cell_type": "markdown",
   "metadata": {},
   "source": [
    "### Type hints and defaults"
   ]
  }
 ],
 "metadata": {
  "kernelspec": {
   "display_name": "Python 3",
   "language": "python",
   "name": "python3"
  },
  "language_info": {
   "codemirror_mode": {
    "name": "ipython",
    "version": 3
   },
   "file_extension": ".py",
   "mimetype": "text/x-python",
   "name": "python",
   "nbconvert_exporter": "python",
   "pygments_lexer": "ipython3",
   "version": "3.11.8"
  }
 },
 "nbformat": 4,
 "nbformat_minor": 2
}
