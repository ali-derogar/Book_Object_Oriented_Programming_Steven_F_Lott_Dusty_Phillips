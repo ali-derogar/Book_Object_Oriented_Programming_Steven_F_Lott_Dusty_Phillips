{
 "cells": [
  {
   "cell_type": "markdown",
   "metadata": {},
   "source": [
    "# chapter 1\n",
    "\n",
    "In software development, design is often considered as the step that's done before\n",
    "programming. This isn't true; in reality, analysis, programming, and design tend\n",
    "to overlap, combine, and interweave.\n"
   ]
  },
  {
   "cell_type": "markdown",
   "metadata": {},
   "source": [
    "# Introducing object-oriented\n",
    "Everyone knows what an object is: a tangible thing that we can sense, feel, and\n",
    "manipulate. The earliest objects we interact with are typically baby toys. Wooden\n",
    "blocks, plastic shapes, and over-sized puzzle pieces are common first objects. Babies\n",
    "learn quickly that certain objects do certain things: bells ring, buttons are pressed,\n",
    "and levers are pulled.\n",
    "The definition of an object in software development is not terribly different. Software\n",
    "objects may not be tangible things that you can pick up, sense, or feel, but they are\n",
    "models of something that can do certain things and have certain things done to them.\n",
    "Formally, an object is a collection of data and associated behaviors."
   ]
  },
  {
   "cell_type": "markdown",
   "metadata": {},
   "source": [
    "## Object-oriented programming means ?\n",
    "writing code directed toward modeling objects"
   ]
  },
  {
   "cell_type": "markdown",
   "metadata": {},
   "source": [
    "## OOA :\n",
    "is the process of looking at a problem, system, or task and\n",
    "identifying the objects and interactions between those objects. The analysis stage is\n",
    "all about what needs to be done.\n",
    "The output of the analysis stage is a description of the system, often in the form\n",
    "of requirements"
   ]
  },
  {
   "cell_type": "markdown",
   "metadata": {},
   "source": [
    "## OOD :\n",
    "is the process of converting such requirements\n",
    "into an implementation specification. The designer must name the objects, define\n",
    "the behaviors, and formally specify which objects can activate specific behaviors\n",
    "on other objects .\n",
    "that could be implemented in (ideally) any object-oriented programming language."
   ]
  },
  {
   "cell_type": "markdown",
   "metadata": {},
   "source": [
    "## OOP :\n",
    "is the process of converting a design into a\n",
    "working program that does what the product owner originally requested.\n",
    "In iterative development, a small part of the task is modeled, designed, and\n",
    "programmed, and then the product is reviewed and expanded to improve each\n",
    "feature and include new features in a series of short development cycles."
   ]
  },
  {
   "cell_type": "markdown",
   "metadata": {},
   "source": [
    "## Objects and classes\n",
    "An object is a collection of data with associated behaviors.\n",
    "#### How do we differentiate between types of objects?\n",
    "Apples and oranges are both objects, but it is a common\n",
    "adage that they cannot be compared. Apples and oranges aren't modeled very often\n",
    "in computer programming, but let's pretend we're doing an inventory application\n",
    "for a fruit farm. To facilitate this example, we can assume that apples go in barrels\n",
    "and oranges go in baskets.\n",
    "The problem domain we've uncovered so far has four kinds of objects: apples,\n",
    "oranges, baskets, and barrels. In object-oriented modeling, the term used for a kind\n",
    "of object is class. So, in technical terms, we now have four classes of objects.\n",
    "It's important to understand the difference between an object and a class. Classes\n",
    "describe related objects. They are like blueprints for creating an object. You might\n",
    "have three oranges sitting on the table in front of you. Each orange is a distinct\n",
    "object, but all three have the attributes and behaviors associated with one class: the\n",
    "general class of oranges.\n"
   ]
  },
  {
   "cell_type": "markdown",
   "metadata": {},
   "source": [
    "### Data describes object state\n",
    "Data represents the individual characteristics of a certain object;\n",
    "Any specific object can have different data values for the given characteristics.\n",
    "For example, the three oranges on our table (if we haven't eaten any) could each weigh a different amount. The orange class could have a weight attribute to represent that datum. All instances of the orange class have a weight attribute, but each orange has a different value for this attribute. Attributes don't have to be unique, though; any two oranges may weigh the same amount.\n",
    "<hr style=\"color:red\">\n",
    "<br>\n",
    "In our fruit inventory application, the fruit farmer may want to know what orchard\n",
    "the orange came from, when it was picked, and how much it weighs. They might\n",
    "also want to keep track of where each Basket is stored. Apples might have a color\n",
    "attribute, and barrels might come in different sizes."
   ]
  },
  {
   "cell_type": "markdown",
   "metadata": {},
   "source": [
    "![alt text](./images/1.PNG \"Figure 1.3: Class diagram with attributes\")"
   ]
  },
  {
   "cell_type": "markdown",
   "metadata": {},
   "source": [
    "Usually, we don't need to be overly concerned with data types at the design stage,\n",
    "as implementation-specific details are chosen during the programming stage.\n",
    "Generic names are normally sufficient for design; that's why we included date\n",
    "as a placeholder for a Python type like datetime.datetime. If our design calls\n",
    "for a list container type, Java programmers can choose to use a LinkedList or\n",
    "an ArrayList when implementing it, while Python programmers (that's us!) might\n",
    "specify List[Apple] as a type hint, and use the list type for the implementation."
   ]
  },
  {
   "cell_type": "markdown",
   "metadata": {},
   "source": [
    "![alt text](./images/2.PNG \"Figure 1.4: Class diagram with attributes and their types\")"
   ]
  },
  {
   "cell_type": "markdown",
   "metadata": {},
   "source": [
    "### Behaviors are actions\n",
    "Behaviors are actions that can occur on an object.\n",
    "The behaviors that can be performed on a specific class of object are expressed as\n",
    "the methods of the class.\n",
    "At the programming level, methods are like functions in structured programming, but they have access to the attributes – in particular, the\n",
    "instance variables with the data associated with this object. Like functions, methods\n",
    "can also accept parameters and return values.\n",
    "A method's parameters are provided to it as a collection of objects that need to\n",
    "be passed into that method.\n",
    "Returned values are the results of that task."
   ]
  },
  {
   "cell_type": "markdown",
   "metadata": {},
   "source": [
    "![alt text](./images/3.PNG \"Figure 1.5: Class diagram with attributes and methods\")"
   ]
  },
  {
   "cell_type": "markdown",
   "metadata": {},
   "source": [
    "### Object-oriented analysis and design is : \n",
    "all about figuring out what those objects are\n",
    "and how they should interact. Each class has responsibilities and collaborations.\n"
   ]
  },
  {
   "cell_type": "markdown",
   "metadata": {},
   "source": [
    "### Hiding details and creating the public\n",
    "interface\n",
    "The key purpose of modeling an object in object-oriented design is to determine what\n",
    "the public interface of that object will be. The interface is the collection of attributes\n",
    "and methods that other objects can access to interact with that object."
   ]
  },
  {
   "cell_type": "markdown",
   "metadata": {},
   "source": [
    "\n",
    "A common real-world example is the television. Our interface to the television is the\n",
    "remote control. Each button on the remote control represents a method that can be\n",
    "called on the television object. When we, as the calling object, access these methods,\n",
    "we do not know or care if the television is getting its signal from a cable connection,\n",
    "a satellite dish, or an internet-enabled device. We don't care what electronic signals\n",
    "are being sent to adjust the volume, or whether the sound is destined for speakers or\n",
    "headphones. If we open the television to access its internal workings, for example,\n",
    "to split the output signal to both external speakers and a set of headphones, we may\n",
    "void the warranty."
   ]
  },
  {
   "cell_type": "markdown",
   "metadata": {},
   "source": [
    "#### Abstraction\n",
    "is another object-oriented term related to encapsulation and information\n",
    "hiding. Abstraction means dealing with the level of detail that is most appropriate to\n",
    "a given task. It is the process of extracting a public interface from the inner details.\n",
    "A car's driver needs to interact with the steering, accelerator, and brakes. The\n",
    "workings of the motor, drive train, and brake subsystem don't matter to the driver.\n",
    "A mechanic, on the other hand, works at a different level of abstraction, tuning the\n",
    "engine and bleeding the brakes. Here's an example of two abstraction levels for a car"
   ]
  },
  {
   "cell_type": "markdown",
   "metadata": {},
   "source": [
    "![alt text](./images/4.PNG \"Figure 1.6: Abstraction levels for a car\")"
   ]
  },
  {
   "cell_type": "markdown",
   "metadata": {},
   "source": [
    "### Composition\n",
    "\n",
    "Composition is the act of collecting several objects together to create a new one.\n",
    "Composition is usually a good choice when one object is part of another object.\n",
    "We've already seen a first hint of composition when talking about cars. A fossil-\n",
    "fueled car is composed of an engine, transmission, starter, headlights, and\n",
    "windshield, among numerous other parts. The engine, in turn, is composed of\n",
    "pistons, a crank shaft, and valves. In this example, composition is a good way to\n",
    "provide levels of abstraction. The Car object can provide the interface required by\n",
    "a driver, while also giving access to its component parts, which offers the deeper\n",
    "level of abstraction suitable for a mechanic."
   ]
  },
  {
   "cell_type": "markdown",
   "metadata": {},
   "source": [
    "<hr style=\"color:red\">"
   ]
  },
  {
   "cell_type": "markdown",
   "metadata": {},
   "source": [
    "The objects in an object-oriented system occasionally represent physical objects\n",
    "such as people, books, or telephones. More often, however, they represent concepts.\n",
    "People have names, books have titles, and telephones are used to make calls. Calls,\n",
    "titles, accounts, names, appointments, and payments are not usually considered\n",
    "objects in the physical world, but they are all frequently-modeled components in\n",
    "computer systems."
   ]
  },
  {
   "cell_type": "markdown",
   "metadata": {},
   "source": [
    "Let's try modeling a more computer-oriented example to see composition in action.\n",
    "We'll be looking at the design of a computerized chess game. This was a very\n",
    "popular pastime in the 80s and 90s. People were predicting that computers would\n",
    "one day be able to defeat a human chess master. When this happened in 1997 (IBM's\n",
    "Deep Blue defeated world chess champion, Gary Kasparov), interest in the problem\n",
    "of chess waned. Nowadays, the descendants of Deep Blue always win."
   ]
  },
  {
   "cell_type": "markdown",
   "metadata": {},
   "source": [
    "![alt text](./images/5.PNG \"Figure 1.7: Object/instance diagram for a chess game\")"
   ]
  },
  {
   "cell_type": "markdown",
   "metadata": {},
   "source": [
    "![alt text](./images/6.PNG \"Figure 1.8: Class diagram for a chess game\")"
   ]
  },
  {
   "cell_type": "markdown",
   "metadata": {},
   "source": [
    "![alt text](./images/7.PNG \"Figure 1.9: Class diagram for a chess game\")"
   ]
  },
  {
   "cell_type": "markdown",
   "metadata": {},
   "source": [
    "### Inheritance\n",
    "The is a relationship is formed by inheritance. Inheritance is the most famous, well-\n",
    "known, and overused relationship in object-oriented programming. Inheritance is\n",
    "sort of like a family tree. Dusty Phillips is one of this book's authors.\n",
    "His grandfather's last name was Phillips, and his father inherited that name. Dusty\n",
    "inherited it from him. In object-oriented programming, instead of inheriting features\n",
    "and behaviors from a person, one class can inherit attributes and methods from\n",
    "another class.\n",
    "For example, there are 32 chess pieces in our chess set, but there are only six different\n",
    "types of pieces (pawns, rooks, bishops, knights, king, and queen), each of which\n",
    "behaves differently when it is moved. All of these classes of piece have properties,\n",
    "such as color and the chess set they are part of, but they also have unique shapes\n",
    "when drawn on the chess board, and make different moves."
   ]
  },
  {
   "cell_type": "markdown",
   "metadata": {},
   "source": [
    "![alt text](./images/8.PNG \"Figure 1.10: How chess pieces inherit from the Piece class\")"
   ]
  },
  {
   "cell_type": "markdown",
   "metadata": {},
   "source": [
    "Overriding methods in subclasses allows very powerful object-oriented systems to\n",
    "be developed. For example, if we wanted to implement a Player class with artificial\n",
    "intelligence, we might provide a calculate_move method that takes a Board object\n",
    "and decides which piece to move where. A very basic class might randomly choose\n",
    "a piece and direction and move it accordingly. We could then override this method\n",
    "in a subclass with the Deep Blue implementation. The first class would be suitable\n",
    "for play against a raw beginner; the latter would challenge a grand master."
   ]
  },
  {
   "cell_type": "markdown",
   "metadata": {},
   "source": [
    "In the case of chess pieces, it doesn't really make sense to provide a default\n",
    "implementation of the move method. All we need to do is specify that the move\n",
    "method is required in any subclasses. This can be done by making Piece an abstract\n",
    "class with the move method declared as abstract. Abstract methods basically say\n",
    "this:\n",
    "\n",
    "\"We demand this method exist in any non-abstract subclass, but we are declining to\n",
    "specify an implementation in this class.\"\n",
    "\n",
    "Indeed, it is possible to make an abstraction that does not implement any methods\n",
    "at all. Such a class would simply tell us what the class should do, but provides\n",
    "absolutely no advice on how to do it. In some languages, these purely abstract\n",
    "classes are called interfaces."
   ]
  },
  {
   "cell_type": "markdown",
   "metadata": {},
   "source": [
    "### Inheritance provides abstraction\n",
    "#### Polymorphism\n",
    " is pretty cool, but it is a word that is rarely used in Python\n",
    "programming. Python goes an extra step past allowing a subclass of an object to be\n",
    "treated like a parent class. A board implemented in Python could take any object\n",
    "that has a move method, whether it is a bishop piece, a car, or a duck. When move is\n",
    "called, the Bishop will move diagonally on the board, the car will drive someplace,\n",
    "and the duck will swim or fly, depending on its mood.\n",
    "This sort of polymorphism in Python is typically referred to as duck typing: if it\n",
    "walks like a duck or swims like a duck, we call it a duck. We don't care if it really is a duck\n",
    "(is a being a cornerstone of inheritance), only that it swims or walks. Geese and\n",
    "swans might easily be able to provide the duck-like behavior we are looking for.\n",
    "This allows future designers to create new types of birds without actually specifying\n",
    "a formal inheritance hierarchy for all possible kinds of aquatic birds. The chess\n",
    "examples, above, use formal inheritance to cover all possible pieces in the chess\n",
    "set. Duck typing also allows a programmer to extend a design, creating completely\n",
    "different drop-in behaviors the original designers never planned for. For example,\n",
    "future designers might be able to make a walking, swimming penguin that works\n",
    "with the same interface without ever suggesting that penguins have a common\n",
    "superclass with ducks"
   ]
  },
  {
   "cell_type": "markdown",
   "metadata": {},
   "source": [
    "### Multiple inheritance\n",
    "When we think of inheritance in our own family tree, we can see that we inherit\n",
    "features from more than just one parent. When strangers tell a proud mother that\n",
    "her son has his father's eyes, she will typically respond along the lines of, yes, but he\n",
    "got my nose."
   ]
  },
  {
   "cell_type": "markdown",
   "metadata": {},
   "source": [
    "### Introduction and problem overview\n",
    "we'll be starting with a simpler problem – classifying\n",
    "flowers. We want to implement one popular approach called k-nearest neighbors,\n",
    "or k-NN for short. We require a training set of data, which the classifier algorithm\n",
    "uses as examples of correctly classified irises. Each training sample has a number\n",
    "of attributes, reduced to numeric scores, and a final, correct, classification (i.e. iris\n",
    "species). In this iris example, each training sample is an iris, with its attributes, such\n",
    "as petal shape, size, and so on, encoded into a numeric vector that is an overall\n",
    "representation of the iris, along with a correct species label for that iris.\n",
    "Given an unknown sample, an iris whose species we want to know, we can measure\n",
    "the distance between the unknown sample and any of the known samples in the\n",
    "vector space. For some small group of nearby neighbors, we can take a vote. The\n",
    "unknown sample can be classified into the sub-population selected by the majority of\n",
    "the nearby neighbors.\n",
    "If we only have two dimensions (or attributes), we can diagram the k-NN\n",
    "classification like this:"
   ]
  },
  {
   "cell_type": "markdown",
   "metadata": {},
   "source": [
    "![alt text](./images/9.PNG \"Figure 1.11: k-nearest neighbors\")"
   ]
  },
  {
   "cell_type": "markdown",
   "metadata": {},
   "source": [
    "Our unknown sample is a diamond tagged with \"??\". It's surrounded by known\n",
    "samples of the square and circle species. When we locate the three nearest neighbors,\n",
    "shown inside the dashed circle, we can take a vote and decide that the unknown is\n",
    "most like the Circle species."
   ]
  }
 ],
 "metadata": {
  "kernelspec": {
   "display_name": "Python 3",
   "language": "python",
   "name": "python3"
  },
  "language_info": {
   "name": "python",
   "version": "3.11.8"
  }
 },
 "nbformat": 4,
 "nbformat_minor": 2
}
